{
 "cells": [
  {
   "cell_type": "code",
   "execution_count": 1,
   "id": "d13020f2",
   "metadata": {},
   "outputs": [],
   "source": [
    "import os\n",
    "import sys\n",
    "\n",
    "sys.path.append(\n",
    "    os.path.join(\"..\",\"Preprocesamiento\")\n",
    ")\n",
    "sys.path.append(\n",
    "    os.path.join(\"..\",\"Models\")\n",
    ")\n",
    "sys.path.append(\n",
    "    os.path.join(\"..\",\"Train_utils\")\n",
    ")\n",
    "\n",
    "import torch\n",
    "from torch import nn\n",
    "import numpy as np\n",
    "import torchvision\n",
    "from torchvision import transforms"
   ]
  },
  {
   "cell_type": "code",
   "execution_count": 2,
   "id": "765bab72",
   "metadata": {},
   "outputs": [
    {
     "data": {
      "text/plain": [
       "dict_keys(['x', 'date', 'y', 'vp'])"
      ]
     },
     "execution_count": 2,
     "metadata": {},
     "output_type": "execute_result"
    }
   ],
   "source": [
    "import dataLoader\n",
    "from dataLoader import belugaDataset\n",
    "from Custom_Transforms import *\n",
    "dataset=belugaDataset(\n",
    "    csv_file=os.path.join(\"..\",\"metadata.csv\"),\n",
    "    im_folder=os.path.join(\"..\",\"images\")\n",
    ")\n",
    "dataset[0].keys()"
   ]
  },
  {
   "cell_type": "code",
   "execution_count": 3,
   "id": "6cd1b2ff",
   "metadata": {},
   "outputs": [],
   "source": [
    "from VAE_NETs.P_NET import P_NET\n",
    "from VAE_NETs.Q_NET import Q_NET\n",
    "from pyro_VAE import Flexible_Encoding_Decoding_VAE\n",
    "from Encoding_Decoding_modules.Basic_Encoding_Decoding_Module import Basic_Convolutional_EDM"
   ]
  },
  {
   "cell_type": "code",
   "execution_count": 37,
   "id": "5a027d00",
   "metadata": {},
   "outputs": [],
   "source": [
    "CEDM=Basic_Convolutional_EDM(\n",
    "    repr_sizes=[3,3,3,3,3,3,6,6,6,9],\n",
    "    #repr_sizes=[3,3,3,3,3,3,4,4,4,4,4,5,5,5],\n",
    "    #repr_sizes=[3,6],\n",
    "    kernel_size=11,\n",
    "    activators=nn.LeakyReLU(),\n",
    "    pooling=False,\n",
    "    batch_norm=False,\n",
    "    dropout=None,\n",
    "    stride=1\n",
    ")\n",
    "\n",
    "p=P_NET(\n",
    "    layer_size=[18900,1000,500,250][::-1],\n",
    "    #layer_size=[342720,1000,500,250][::-1],\n",
    "    dec_activators=nn.ReLU()\n",
    ")\n",
    "q=Q_NET(\n",
    "    layer_size=[18900,1000,500,250],\n",
    "    #layer_size=[342720,1000,500,250],\n",
    "    enc_activators=nn.ReLU()\n",
    ")"
   ]
  },
  {
   "cell_type": "code",
   "execution_count": 21,
   "id": "0915eb51",
   "metadata": {},
   "outputs": [],
   "source": [
    "VAE=Flexible_Encoding_Decoding_VAE(\n",
    "    encoding_decoding_module=CEDM,\n",
    "    P_NET=p,\n",
    "    Q_NET=q,\n",
    "    losses_weigths={\"generative_loss\":1},\n",
    "    subsample=None,\n",
    "    sig_scale=1\n",
    ")"
   ]
  },
  {
   "cell_type": "code",
   "execution_count": 22,
   "id": "80c6374f",
   "metadata": {},
   "outputs": [],
   "source": [
    "Ct=transforms.Compose([\n",
    "    vp_one_hot_encoding(),\n",
    "    MultiInputResize(),\n",
    "    MultiInputToTensor(),\n",
    "    SelectInput(output_keys=[\"x\",\"vp\"])\n",
    "])"
   ]
  },
  {
   "cell_type": "code",
   "execution_count": 23,
   "id": "1a1b90c3",
   "metadata": {},
   "outputs": [
    {
     "data": {
      "text/plain": [
       "torch.Size([3, 300, 100])"
      ]
     },
     "execution_count": 23,
     "metadata": {},
     "output_type": "execute_result"
    }
   ],
   "source": [
    "Ct(dataset[0])[\"x\"].shape"
   ]
  },
  {
   "cell_type": "code",
   "execution_count": 38,
   "id": "508be0aa",
   "metadata": {},
   "outputs": [
    {
     "name": "stdout",
     "output_type": "stream",
     "text": [
      "torch.Size([1, 18900])\n"
     ]
    },
    {
     "data": {
      "text/plain": [
       "torch.Size([1, 3, 300, 100])"
      ]
     },
     "execution_count": 38,
     "metadata": {},
     "output_type": "execute_result"
    }
   ],
   "source": [
    "print(CEDM.sanity_check(Ct(dataset[0])[\"x\"].unsqueeze(0)))\n",
    "CEDM.DEC(CEDM.ENC(Ct(dataset[0])[\"x\"].unsqueeze(0))).shape"
   ]
  },
  {
   "cell_type": "code",
   "execution_count": 44,
   "id": "6fa418e6",
   "metadata": {},
   "outputs": [
    {
     "data": {
      "text/plain": [
       "(tensor([[9.4111e-03, 1.8626e-02, 1.6648e-02, 3.7308e-02, 2.3556e-02, 2.4564e-02,\n",
       "          0.0000e+00, 3.4814e-02, 0.0000e+00, 2.7635e-02, 1.1529e-02, 0.0000e+00,\n",
       "          0.0000e+00, 1.7640e-02, 0.0000e+00, 0.0000e+00, 0.0000e+00, 0.0000e+00,\n",
       "          0.0000e+00, 0.0000e+00, 4.6358e-02, 2.3339e-02, 1.1718e-03, 0.0000e+00,\n",
       "          0.0000e+00, 0.0000e+00, 0.0000e+00, 6.4589e-03, 0.0000e+00, 1.0638e-03,\n",
       "          3.0155e-02, 0.0000e+00, 3.2995e-02, 2.2640e-02, 1.0918e-03, 0.0000e+00,\n",
       "          0.0000e+00, 4.3145e-04, 0.0000e+00, 0.0000e+00, 3.6735e-02, 0.0000e+00,\n",
       "          1.1696e-02, 1.2491e-02, 2.7748e-02, 0.0000e+00, 0.0000e+00, 4.0952e-02,\n",
       "          4.0950e-02, 2.0410e-02, 1.2749e-02, 0.0000e+00, 2.5095e-02, 0.0000e+00,\n",
       "          0.0000e+00, 6.2928e-04, 0.0000e+00, 0.0000e+00, 4.4895e-03, 1.2091e-02,\n",
       "          7.5259e-04, 2.2456e-02, 0.0000e+00, 2.1126e-02, 2.1261e-02, 0.0000e+00,\n",
       "          1.6905e-02, 2.9984e-03, 1.9383e-02, 1.1355e-02, 0.0000e+00, 5.8404e-03,\n",
       "          9.2720e-03, 0.0000e+00, 0.0000e+00, 0.0000e+00, 4.5973e-03, 2.1654e-02,\n",
       "          0.0000e+00, 3.5267e-02, 2.5948e-02, 4.2237e-02, 3.6259e-02, 0.0000e+00,\n",
       "          0.0000e+00, 0.0000e+00, 2.9775e-02, 0.0000e+00, 0.0000e+00, 4.4712e-02,\n",
       "          5.3645e-02, 1.9382e-02, 0.0000e+00, 0.0000e+00, 6.1854e-02, 1.0088e-02,\n",
       "          2.4059e-02, 0.0000e+00, 0.0000e+00, 0.0000e+00, 2.4981e-02, 0.0000e+00,\n",
       "          2.9446e-02, 0.0000e+00, 2.5503e-02, 3.3249e-02, 0.0000e+00, 0.0000e+00,\n",
       "          0.0000e+00, 0.0000e+00, 0.0000e+00, 0.0000e+00, 0.0000e+00, 2.9524e-03,\n",
       "          0.0000e+00, 0.0000e+00, 0.0000e+00, 3.3730e-02, 0.0000e+00, 0.0000e+00,\n",
       "          1.8671e-02, 3.2731e-02, 0.0000e+00, 6.2563e-03, 0.0000e+00, 3.9085e-02,\n",
       "          0.0000e+00, 2.5565e-02, 0.0000e+00, 0.0000e+00, 0.0000e+00, 1.0948e-02,\n",
       "          0.0000e+00, 1.9949e-02, 1.0546e-03, 2.1973e-02, 0.0000e+00, 1.6305e-02,\n",
       "          2.5624e-02, 4.5725e-02, 0.0000e+00, 0.0000e+00, 3.0195e-02, 0.0000e+00,\n",
       "          3.0866e-02, 2.0864e-04, 1.7930e-02, 0.0000e+00, 3.8417e-02, 0.0000e+00,\n",
       "          0.0000e+00, 7.4146e-03, 3.7994e-02, 0.0000e+00, 0.0000e+00, 2.6663e-03,\n",
       "          0.0000e+00, 0.0000e+00, 0.0000e+00, 0.0000e+00, 0.0000e+00, 0.0000e+00,\n",
       "          2.7018e-02, 2.6791e-02, 4.2250e-02, 1.8770e-02, 3.5582e-02, 3.2131e-02,\n",
       "          0.0000e+00, 0.0000e+00, 3.5991e-02, 3.4149e-03, 6.4396e-03, 2.0245e-02,\n",
       "          0.0000e+00, 0.0000e+00, 0.0000e+00, 2.7581e-03, 0.0000e+00, 0.0000e+00,\n",
       "          0.0000e+00, 0.0000e+00, 2.8237e-02, 0.0000e+00, 3.0938e-02, 0.0000e+00,\n",
       "          4.1391e-02, 0.0000e+00, 1.4792e-02, 0.0000e+00, 0.0000e+00, 8.5497e-03,\n",
       "          2.6002e-02, 0.0000e+00, 1.0578e-02, 0.0000e+00, 3.0045e-02, 0.0000e+00,\n",
       "          1.9221e-02, 0.0000e+00, 3.2100e-02, 1.4006e-02, 2.1831e-02, 1.3760e-02,\n",
       "          9.5879e-04, 0.0000e+00, 0.0000e+00, 0.0000e+00, 3.2102e-02, 0.0000e+00,\n",
       "          1.0270e-03, 0.0000e+00, 1.8688e-02, 4.9286e-02, 8.1816e-04, 0.0000e+00,\n",
       "          1.3331e-02, 0.0000e+00, 2.2767e-02, 1.3606e-02, 0.0000e+00, 0.0000e+00,\n",
       "          3.5833e-02, 0.0000e+00, 0.0000e+00, 9.8959e-03, 0.0000e+00, 0.0000e+00,\n",
       "          0.0000e+00, 3.0078e-02, 0.0000e+00, 0.0000e+00, 0.0000e+00, 0.0000e+00,\n",
       "          0.0000e+00, 0.0000e+00, 2.7845e-02, 4.6183e-02, 8.2011e-03, 3.2745e-02,\n",
       "          4.9907e-05, 0.0000e+00, 0.0000e+00, 4.0366e-02, 0.0000e+00, 0.0000e+00,\n",
       "          0.0000e+00, 7.7775e-03, 0.0000e+00, 2.1306e-02]]),\n",
       " tensor([[1.0000, 1.0000, 1.0000, 1.0105, 1.0171, 1.0320, 1.0000, 1.0000, 1.0204,\n",
       "          1.0444, 1.0000, 1.0000, 1.0200, 1.0044, 1.0000, 1.0000, 1.0214, 1.0313,\n",
       "          1.0000, 1.0000, 1.0015, 1.0000, 1.0000, 1.0000, 1.0072, 1.0312, 1.0509,\n",
       "          1.0314, 1.0000, 1.0451, 1.0081, 1.0000, 1.0213, 1.0000, 1.0436, 1.0000,\n",
       "          1.0000, 1.0126, 1.0214, 1.0000, 1.0449, 1.0000, 1.0098, 1.0170, 1.0424,\n",
       "          1.0000, 1.0360, 1.0429, 1.0571, 1.0000, 1.0307, 1.0323, 1.0000, 1.0000,\n",
       "          1.0000, 1.0000, 1.0000, 1.0140, 1.0000, 1.0000, 1.0000, 1.0000, 1.0097,\n",
       "          1.0000, 1.0000, 1.0000, 1.0000, 1.0000, 1.0084, 1.0382, 1.0000, 1.0000,\n",
       "          1.0007, 1.0000, 1.0000, 1.0042, 1.0279, 1.0507, 1.0000, 1.0000, 1.0092,\n",
       "          1.0000, 1.0152, 1.0000, 1.0000, 1.0000, 1.0016, 1.0006, 1.0194, 1.0158,\n",
       "          1.0033, 1.0000, 1.0000, 1.0000, 1.0000, 1.0000, 1.0000, 1.0000, 1.0000,\n",
       "          1.0423, 1.0000, 1.0000, 1.0000, 1.0274, 1.0098, 1.0194, 1.0175, 1.0281,\n",
       "          1.0000, 1.0000, 1.0371, 1.0000, 1.0000, 1.0165, 1.0000, 1.0414, 1.0000,\n",
       "          1.0012, 1.0214, 1.0000, 1.0284, 1.0000, 1.0000, 1.0000, 1.0000, 1.0000,\n",
       "          1.0137, 1.0475, 1.0000, 1.0180, 1.0000, 1.0000, 1.0000, 1.0308, 1.0114,\n",
       "          1.0000, 1.0000, 1.0182, 1.0000, 1.0054, 1.0000, 1.0269, 1.0085, 1.0409,\n",
       "          1.0214, 1.0000, 1.0000, 1.0371, 1.0372, 1.0484, 1.0462, 1.0262, 1.0000,\n",
       "          1.0381, 1.0000, 1.0000, 1.0336, 1.0143, 1.0435, 1.0000, 1.0000, 1.0000,\n",
       "          1.0186, 1.0000, 1.0000, 1.0000, 1.0000, 1.0028, 1.0436, 1.0270, 1.0000,\n",
       "          1.0000, 1.0000, 1.0000, 1.0000, 1.0180, 1.0069, 1.0000, 1.0413, 1.0000,\n",
       "          1.0000, 1.0196, 1.0000, 1.0000, 1.0448, 1.0355, 1.0213, 1.0000, 1.0000,\n",
       "          1.0000, 1.0202, 1.0377, 1.0000, 1.0300, 1.0000, 1.0000, 1.0349, 1.0243,\n",
       "          1.0137, 1.0239, 1.0000, 1.0274, 1.0016, 1.0000, 1.0000, 1.0000, 1.0335,\n",
       "          1.0238, 1.0228, 1.0000, 1.0018, 1.0000, 1.0172, 1.0000, 1.0162, 1.0000,\n",
       "          1.0028, 1.0182, 1.0144, 1.0000, 1.0527, 1.0000, 1.0063, 1.0000, 1.0000,\n",
       "          1.0000, 1.0191, 1.0064, 1.0480, 1.0105, 1.0000, 1.0000, 1.0000, 1.0185,\n",
       "          1.0000, 1.0000, 1.0222, 1.0160, 1.0335, 1.0000, 1.0000, 1.0285, 1.0000,\n",
       "          1.0000, 1.0009, 1.0000, 1.0032, 1.0048, 1.0000, 1.0322]]),\n",
       " tensor([[[[0.0178, 0.0178, 0.0175,  ..., 0.0179, 0.0183, 0.0182],\n",
       "           [0.0175, 0.0175, 0.0169,  ..., 0.0175, 0.0179, 0.0181],\n",
       "           [0.0178, 0.0174, 0.0164,  ..., 0.0183, 0.0186, 0.0183],\n",
       "           ...,\n",
       "           [0.0188, 0.0184, 0.0192,  ..., 0.0169, 0.0174, 0.0178],\n",
       "           [0.0187, 0.0184, 0.0189,  ..., 0.0168, 0.0173, 0.0176],\n",
       "           [0.0185, 0.0184, 0.0186,  ..., 0.0178, 0.0179, 0.0178]],\n",
       " \n",
       "          [[0.0000, 0.0000, 0.0000,  ..., 0.0000, 0.0000, 0.0000],\n",
       "           [0.0000, 0.0000, 0.0000,  ..., 0.0000, 0.0000, 0.0000],\n",
       "           [0.0000, 0.0000, 0.0000,  ..., 0.0000, 0.0000, 0.0000],\n",
       "           ...,\n",
       "           [0.0000, 0.0000, 0.0000,  ..., 0.0000, 0.0000, 0.0000],\n",
       "           [0.0000, 0.0000, 0.0000,  ..., 0.0000, 0.0000, 0.0000],\n",
       "           [0.0000, 0.0000, 0.0000,  ..., 0.0000, 0.0000, 0.0000]],\n",
       " \n",
       "          [[0.0000, 0.0000, 0.0000,  ..., 0.0000, 0.0000, 0.0000],\n",
       "           [0.0000, 0.0000, 0.0000,  ..., 0.0000, 0.0000, 0.0000],\n",
       "           [0.0000, 0.0000, 0.0000,  ..., 0.0000, 0.0000, 0.0000],\n",
       "           ...,\n",
       "           [0.0000, 0.0000, 0.0000,  ..., 0.0000, 0.0000, 0.0000],\n",
       "           [0.0000, 0.0000, 0.0000,  ..., 0.0000, 0.0000, 0.0000],\n",
       "           [0.0000, 0.0000, 0.0000,  ..., 0.0000, 0.0000, 0.0000]]]]))"
      ]
     },
     "execution_count": 44,
     "metadata": {},
     "output_type": "execute_result"
    }
   ],
   "source": [
    "VAE.eval()\n",
    "VAE.forward_pass(Ct(dataset[0])[\"x\"].unsqueeze(0))"
   ]
  },
  {
   "cell_type": "code",
   "execution_count": 46,
   "id": "95bb60f7",
   "metadata": {},
   "outputs": [
    {
     "data": {
      "text/plain": [
       "[250, 500, 1000, 616896]"
      ]
     },
     "execution_count": 46,
     "metadata": {},
     "output_type": "execute_result"
    }
   ],
   "source": [
    "[616896,1000,500,250][::-1]"
   ]
  },
  {
   "cell_type": "code",
   "execution_count": 49,
   "id": "39b1bea8",
   "metadata": {},
   "outputs": [
    {
     "data": {
      "text/plain": [
       "array(['whale000', 'whale001', 'whale002', 'whale003', 'whale004',\n",
       "       'whale005', 'whale006', 'whale007', 'whale008', 'whale009',\n",
       "       'whale010', 'whale011', 'whale012', 'whale013', 'whale014',\n",
       "       'whale015', 'whale016', 'whale017', 'whale018', 'whale019',\n",
       "       'whale020', 'whale021', 'whale022', 'whale023', 'whale024',\n",
       "       'whale025', 'whale026', 'whale027', 'whale028', 'whale029',\n",
       "       'whale030', 'whale031', 'whale032', 'whale033', 'whale034',\n",
       "       'whale035', 'whale036', 'whale037', 'whale038', 'whale039',\n",
       "       'whale040', 'whale041', 'whale042', 'whale043', 'whale044',\n",
       "       'whale045', 'whale046', 'whale047', 'whale048', 'whale049',\n",
       "       'whale050', 'whale051', 'whale052', 'whale053', 'whale054',\n",
       "       'whale055', 'whale056', 'whale057', 'whale058', 'whale059',\n",
       "       'whale060', 'whale061', 'whale062', 'whale063', 'whale064',\n",
       "       'whale065', 'whale066', 'whale067', 'whale068', 'whale069',\n",
       "       'whale070', 'whale071', 'whale072', 'whale073', 'whale074',\n",
       "       'whale075', 'whale076', 'whale077', 'whale078', 'whale079',\n",
       "       'whale080', 'whale081', 'whale082', 'whale083', 'whale084',\n",
       "       'whale085', 'whale086', 'whale087', 'whale088', 'whale089',\n",
       "       'whale090', 'whale091', 'whale092', 'whale093', 'whale094',\n",
       "       'whale095', 'whale096', 'whale097', 'whale098', 'whale099',\n",
       "       'whale100', 'whale101', 'whale102', 'whale103', 'whale104',\n",
       "       'whale105', 'whale106', 'whale107', 'whale108', 'whale109',\n",
       "       'whale110', 'whale111', 'whale112', 'whale113', 'whale114',\n",
       "       'whale115', 'whale116', 'whale117', 'whale118', 'whale119',\n",
       "       'whale120', 'whale121', 'whale122', 'whale123', 'whale124',\n",
       "       'whale125', 'whale126', 'whale127', 'whale128', 'whale129',\n",
       "       'whale130', 'whale131', 'whale132', 'whale133', 'whale134',\n",
       "       'whale135', 'whale136', 'whale137', 'whale138', 'whale139',\n",
       "       'whale140', 'whale141', 'whale142', 'whale143', 'whale144',\n",
       "       'whale145', 'whale146', 'whale147', 'whale148', 'whale149',\n",
       "       'whale150', 'whale151', 'whale152', 'whale153', 'whale154',\n",
       "       'whale155', 'whale156', 'whale157', 'whale158', 'whale159',\n",
       "       'whale160', 'whale161', 'whale162', 'whale163', 'whale164',\n",
       "       'whale165', 'whale166', 'whale167', 'whale168', 'whale169',\n",
       "       'whale170', 'whale171', 'whale172', 'whale173', 'whale174',\n",
       "       'whale175', 'whale176', 'whale177', 'whale178', 'whale179',\n",
       "       'whale180', 'whale181', 'whale182', 'whale183', 'whale184',\n",
       "       'whale185', 'whale186', 'whale187', 'whale188', 'whale189',\n",
       "       'whale190', 'whale191', 'whale192', 'whale193', 'whale194',\n",
       "       'whale195', 'whale196', 'whale197', 'whale198', 'whale199',\n",
       "       'whale200', 'whale201', 'whale202', 'whale203', 'whale204',\n",
       "       'whale205', 'whale206', 'whale207', 'whale208', 'whale209',\n",
       "       'whale210', 'whale211', 'whale212', 'whale213', 'whale214',\n",
       "       'whale215', 'whale216', 'whale217', 'whale218', 'whale219',\n",
       "       'whale220', 'whale221', 'whale222', 'whale223', 'whale224',\n",
       "       'whale225', 'whale226', 'whale227', 'whale228', 'whale229',\n",
       "       'whale230', 'whale231', 'whale232', 'whale233', 'whale234',\n",
       "       'whale235', 'whale236', 'whale237', 'whale238', 'whale239',\n",
       "       'whale240', 'whale241', 'whale242', 'whale243', 'whale244',\n",
       "       'whale245', 'whale246', 'whale247', 'whale248', 'whale249',\n",
       "       'whale250', 'whale251', 'whale252', 'whale253', 'whale254',\n",
       "       'whale255', 'whale256', 'whale257', 'whale258', 'whale259',\n",
       "       'whale260', 'whale261', 'whale262', 'whale263', 'whale264',\n",
       "       'whale265', 'whale266', 'whale267', 'whale268', 'whale269',\n",
       "       'whale270', 'whale271', 'whale272', 'whale273', 'whale274',\n",
       "       'whale275', 'whale276', 'whale277', 'whale278', 'whale279',\n",
       "       'whale280', 'whale281', 'whale282', 'whale283', 'whale284',\n",
       "       'whale285', 'whale286', 'whale287', 'whale288', 'whale289',\n",
       "       'whale290', 'whale291', 'whale292', 'whale293', 'whale294',\n",
       "       'whale295', 'whale296', 'whale297', 'whale298', 'whale299',\n",
       "       'whale300', 'whale301', 'whale302', 'whale303', 'whale304',\n",
       "       'whale305', 'whale306', 'whale307', 'whale308', 'whale309',\n",
       "       'whale310', 'whale311', 'whale312', 'whale313', 'whale314',\n",
       "       'whale315', 'whale316', 'whale317', 'whale318', 'whale319',\n",
       "       'whale320', 'whale321', 'whale322', 'whale323', 'whale324',\n",
       "       'whale325', 'whale326', 'whale327', 'whale328', 'whale329',\n",
       "       'whale330', 'whale331', 'whale332', 'whale333', 'whale334',\n",
       "       'whale335', 'whale336', 'whale337', 'whale338', 'whale339',\n",
       "       'whale340', 'whale341', 'whale342', 'whale343', 'whale344',\n",
       "       'whale345', 'whale346', 'whale347', 'whale348', 'whale349',\n",
       "       'whale350', 'whale351', 'whale352', 'whale353', 'whale354',\n",
       "       'whale355', 'whale356', 'whale357', 'whale358', 'whale359',\n",
       "       'whale360', 'whale361', 'whale362', 'whale363', 'whale364',\n",
       "       'whale365', 'whale366', 'whale367', 'whale368', 'whale369',\n",
       "       'whale370', 'whale371', 'whale372', 'whale373', 'whale374',\n",
       "       'whale375', 'whale376', 'whale377', 'whale378', 'whale379',\n",
       "       'whale380', 'whale381', 'whale382', 'whale383', 'whale384',\n",
       "       'whale385', 'whale386', 'whale387', 'whale388', 'whale389',\n",
       "       'whale390', 'whale391', 'whale392', 'whale393', 'whale394',\n",
       "       'whale395', 'whale396', 'whale397', 'whale398', 'whale399',\n",
       "       'whale400', 'whale401', 'whale402', 'whale403', 'whale404',\n",
       "       'whale405', 'whale406', 'whale407', 'whale408', 'whale409',\n",
       "       'whale410', 'whale411', 'whale412', 'whale413', 'whale414',\n",
       "       'whale415', 'whale416', 'whale417', 'whale418', 'whale419',\n",
       "       'whale420', 'whale421', 'whale422', 'whale423', 'whale424',\n",
       "       'whale425', 'whale426', 'whale427', 'whale428', 'whale429',\n",
       "       'whale430', 'whale431', 'whale432', 'whale433', 'whale434',\n",
       "       'whale435', 'whale436', 'whale437', 'whale438', 'whale439',\n",
       "       'whale440', 'whale441', 'whale442', 'whale443', 'whale444',\n",
       "       'whale445', 'whale446', 'whale447', 'whale448', 'whale449',\n",
       "       'whale450', 'whale451', 'whale452', 'whale453', 'whale454',\n",
       "       'whale455', 'whale456', 'whale457', 'whale458', 'whale459',\n",
       "       'whale460', 'whale461', 'whale462', 'whale463', 'whale464',\n",
       "       'whale465', 'whale466', 'whale467', 'whale468', 'whale469',\n",
       "       'whale470', 'whale471', 'whale472', 'whale473', 'whale474',\n",
       "       'whale475', 'whale476', 'whale477', 'whale478', 'whale479',\n",
       "       'whale480', 'whale481', 'whale482', 'whale483', 'whale484',\n",
       "       'whale485', 'whale486', 'whale487', 'whale488', 'whale489',\n",
       "       'whale490', 'whale491', 'whale492', 'whale493', 'whale494',\n",
       "       'whale495', 'whale496', 'whale497', 'whale498', 'whale499',\n",
       "       'whale500', 'whale501', 'whale502', 'whale503', 'whale504',\n",
       "       'whale505', 'whale506', 'whale507', 'whale508', 'whale509',\n",
       "       'whale510', 'whale511', 'whale512', 'whale513', 'whale514',\n",
       "       'whale515', 'whale516', 'whale517', 'whale518', 'whale519',\n",
       "       'whale520', 'whale521', 'whale522', 'whale523', 'whale524',\n",
       "       'whale525', 'whale526', 'whale527', 'whale528', 'whale529',\n",
       "       'whale530', 'whale531', 'whale532', 'whale533', 'whale534',\n",
       "       'whale535', 'whale536', 'whale537', 'whale538', 'whale539',\n",
       "       'whale540', 'whale541', 'whale542', 'whale543', 'whale544',\n",
       "       'whale545', 'whale546', 'whale547', 'whale548', 'whale549',\n",
       "       'whale550', 'whale551', 'whale552', 'whale553', 'whale554',\n",
       "       'whale555', 'whale556', 'whale557', 'whale558', 'whale559',\n",
       "       'whale560', 'whale561', 'whale562', 'whale563', 'whale564',\n",
       "       'whale565', 'whale566', 'whale567', 'whale568', 'whale569',\n",
       "       'whale570', 'whale571', 'whale572', 'whale573', 'whale574',\n",
       "       'whale575', 'whale576', 'whale577', 'whale578', 'whale579',\n",
       "       'whale580', 'whale581', 'whale582', 'whale583', 'whale584',\n",
       "       'whale585', 'whale586', 'whale587', 'whale588', 'whale589',\n",
       "       'whale590', 'whale591', 'whale592', 'whale593', 'whale594',\n",
       "       'whale595', 'whale596', 'whale597', 'whale598', 'whale599',\n",
       "       'whale600', 'whale601', 'whale602', 'whale603', 'whale604',\n",
       "       'whale605', 'whale606', 'whale607', 'whale608', 'whale609',\n",
       "       'whale610', 'whale611', 'whale612', 'whale613', 'whale614',\n",
       "       'whale615', 'whale616', 'whale617', 'whale618', 'whale619',\n",
       "       'whale620', 'whale621', 'whale622', 'whale623', 'whale624',\n",
       "       'whale625', 'whale626', 'whale627', 'whale628', 'whale629',\n",
       "       'whale630', 'whale631', 'whale632', 'whale633', 'whale634',\n",
       "       'whale635', 'whale636', 'whale637', 'whale638', 'whale639',\n",
       "       'whale640', 'whale641', 'whale642', 'whale643', 'whale644',\n",
       "       'whale645', 'whale646', 'whale647', 'whale648', 'whale649',\n",
       "       'whale650', 'whale651', 'whale652', 'whale653', 'whale654',\n",
       "       'whale655', 'whale656', 'whale657', 'whale658', 'whale659',\n",
       "       'whale660', 'whale661', 'whale662', 'whale663', 'whale664',\n",
       "       'whale665', 'whale666', 'whale667', 'whale668', 'whale669',\n",
       "       'whale670', 'whale671', 'whale672', 'whale673', 'whale674',\n",
       "       'whale675', 'whale676', 'whale677', 'whale678', 'whale679',\n",
       "       'whale680', 'whale681', 'whale682', 'whale683', 'whale684',\n",
       "       'whale685', 'whale686', 'whale687', 'whale688', 'whale689',\n",
       "       'whale690', 'whale691', 'whale692', 'whale693', 'whale694',\n",
       "       'whale695', 'whale696', 'whale697', 'whale698', 'whale699',\n",
       "       'whale700', 'whale701', 'whale702', 'whale703', 'whale704',\n",
       "       'whale705', 'whale706', 'whale707', 'whale708', 'whale709',\n",
       "       'whale710', 'whale711', 'whale712', 'whale713', 'whale714',\n",
       "       'whale715', 'whale716', 'whale717', 'whale718', 'whale719',\n",
       "       'whale720', 'whale721', 'whale722', 'whale723', 'whale724',\n",
       "       'whale725', 'whale726', 'whale727', 'whale728', 'whale729',\n",
       "       'whale730', 'whale731', 'whale732', 'whale733', 'whale734',\n",
       "       'whale735', 'whale736', 'whale737', 'whale738', 'whale739',\n",
       "       'whale740', 'whale741', 'whale742', 'whale743', 'whale744',\n",
       "       'whale745', 'whale746', 'whale747', 'whale748', 'whale749',\n",
       "       'whale750', 'whale751', 'whale752', 'whale753', 'whale754',\n",
       "       'whale755', 'whale756', 'whale757', 'whale758', 'whale759',\n",
       "       'whale760', 'whale761', 'whale762', 'whale763', 'whale764',\n",
       "       'whale765', 'whale766', 'whale767', 'whale768', 'whale769',\n",
       "       'whale770', 'whale771', 'whale772', 'whale773', 'whale774',\n",
       "       'whale775', 'whale776', 'whale777', 'whale778', 'whale779',\n",
       "       'whale780', 'whale781', 'whale782', 'whale783', 'whale784',\n",
       "       'whale785', 'whale786', 'whale787'], dtype=object)"
      ]
     },
     "execution_count": 49,
     "metadata": {},
     "output_type": "execute_result"
    }
   ],
   "source": [
    "np.unique(dataset.df[\"whale_id\"].values)"
   ]
  },
  {
   "cell_type": "code",
   "execution_count": 40,
   "id": "62344a0f",
   "metadata": {},
   "outputs": [
    {
     "data": {
      "text/plain": [
       "4721"
      ]
     },
     "execution_count": 40,
     "metadata": {},
     "output_type": "execute_result"
    }
   ],
   "source": [
    "int(len(dataset)*0.8)"
   ]
  }
 ],
 "metadata": {
  "kernelspec": {
   "display_name": "Python 3",
   "language": "python",
   "name": "python3"
  },
  "language_info": {
   "codemirror_mode": {
    "name": "ipython",
    "version": 3
   },
   "file_extension": ".py",
   "mimetype": "text/x-python",
   "name": "python",
   "nbconvert_exporter": "python",
   "pygments_lexer": "ipython3",
   "version": "3.6.9"
  }
 },
 "nbformat": 4,
 "nbformat_minor": 5
}
