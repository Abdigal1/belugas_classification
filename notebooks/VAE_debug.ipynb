{
 "cells": [
  {
   "cell_type": "code",
   "execution_count": 4,
   "id": "8ec47e80",
   "metadata": {},
   "outputs": [],
   "source": [
    "import os\n",
    "import sys\n",
    "\n",
    "sys.path.append(\n",
    "    os.path.join(\"..\",\"Preprocesamiento\")\n",
    ")\n",
    "sys.path.append(\n",
    "    os.path.join(\"..\",\"Models\")\n",
    ")\n",
    "sys.path.append(\n",
    "    os.path.join(\"..\",\"Train_utils\")\n",
    ")\n",
    "\n",
    "import torch\n",
    "from torch import nn\n",
    "import numpy as np\n",
    "import torchvision\n",
    "from torchvision import transforms"
   ]
  },
  {
   "cell_type": "code",
   "execution_count": 13,
   "id": "60cd4cfd",
   "metadata": {},
   "outputs": [
    {
     "data": {
      "text/plain": [
       "dict_keys(['x', 'date', 'y', 'vp'])"
      ]
     },
     "execution_count": 13,
     "metadata": {},
     "output_type": "execute_result"
    }
   ],
   "source": [
    "import dataLoader\n",
    "from dataLoader import belugaDataset\n",
    "from Custom_Transforms import *\n",
    "dataset=belugaDataset(\n",
    "    csv_file=os.path.join(\"..\",\"metadata.csv\"),\n",
    "    im_folder=os.path.join(\"..\",\"images\")\n",
    ")\n",
    "dataset[0].keys()"
   ]
  },
  {
   "cell_type": "code",
   "execution_count": 49,
   "id": "fc78fa37",
   "metadata": {},
   "outputs": [],
   "source": [
    "from VAE_NETs.P_NET import P_NET\n",
    "from VAE_NETs.Q_NET import Q_NET\n",
    "from pyro_VAE import Flexible_Encoding_Decoding_VAE\n",
    "from Encoding_Decoding_modules.Basic_Encoding_Decoding_Module import Basic_Convolutional_EDM"
   ]
  },
  {
   "cell_type": "code",
   "execution_count": 51,
   "id": "f51ff3b0",
   "metadata": {},
   "outputs": [],
   "source": [
    "CEDM=Basic_Convolutional_EDM(\n",
    "    repr_sizes=[3,3,3,3,9,9,9,9,26,27,27,27],\n",
    "    #repr_sizes=[3,6],\n",
    "    kernel_size=11,\n",
    "    activators=nn.ReLU(),\n",
    "    pooling=False,\n",
    "    batch_norm=False,\n",
    "    dropout=None,\n",
    "    stride=1\n",
    ")\n",
    "\n",
    "#p=P_NET(\n",
    "#    layer_sizes=[],\n",
    "#    activators=[]\n",
    "#)\n",
    "#q=P_NET(\n",
    "#    layer_sizes=[],\n",
    "#    activators=[]\n",
    "#)"
   ]
  },
  {
   "cell_type": "code",
   "execution_count": null,
   "id": "7ef561a0",
   "metadata": {},
   "outputs": [],
   "source": [
    "VAE=Flexible_Encoding_Decoding_VAE(\n",
    "    encoding_decoding_module=CEDM,\n",
    "    P_NET,\n",
    "    Q_NET,\n",
    "    losses_weigths={\"generative_loss\":1},\n",
    "    subsample=None,\n",
    "    sig_scale=1\n",
    ")"
   ]
  },
  {
   "cell_type": "code",
   "execution_count": 46,
   "id": "2e46d98c",
   "metadata": {},
   "outputs": [],
   "source": [
    "Ct=transforms.Compose([\n",
    "    vp_one_hot_encoding(),\n",
    "    MultiInputToTensor(),\n",
    "    SelectInput(output_keys=[\"x\",\"vp\"])\n",
    "])"
   ]
  },
  {
   "cell_type": "code",
   "execution_count": 47,
   "id": "01449544",
   "metadata": {},
   "outputs": [
    {
     "data": {
      "text/plain": [
       "tensor([[[0.0039, 0.0039, 0.0039,  ..., 0.0015, 0.0013, 0.0012],\n",
       "         [0.0039, 0.0039, 0.0039,  ..., 0.0015, 0.0013, 0.0012],\n",
       "         [0.0039, 0.0039, 0.0039,  ..., 0.0015, 0.0014, 0.0012],\n",
       "         ...,\n",
       "         [0.0002, 0.0005, 0.0008,  ..., 0.0008, 0.0008, 0.0008],\n",
       "         [0.0002, 0.0005, 0.0008,  ..., 0.0008, 0.0008, 0.0008],\n",
       "         [0.0002, 0.0005, 0.0008,  ..., 0.0008, 0.0008, 0.0008]],\n",
       "\n",
       "        [[0.0039, 0.0039, 0.0039,  ..., 0.0014, 0.0012, 0.0011],\n",
       "         [0.0039, 0.0039, 0.0039,  ..., 0.0014, 0.0012, 0.0011],\n",
       "         [0.0039, 0.0039, 0.0039,  ..., 0.0014, 0.0013, 0.0011],\n",
       "         ...,\n",
       "         [0.0002, 0.0005, 0.0008,  ..., 0.0008, 0.0008, 0.0008],\n",
       "         [0.0002, 0.0005, 0.0008,  ..., 0.0008, 0.0008, 0.0008],\n",
       "         [0.0002, 0.0005, 0.0008,  ..., 0.0008, 0.0008, 0.0008]],\n",
       "\n",
       "        [[0.0039, 0.0039, 0.0039,  ..., 0.0013, 0.0012, 0.0010],\n",
       "         [0.0039, 0.0039, 0.0039,  ..., 0.0013, 0.0012, 0.0010],\n",
       "         [0.0039, 0.0039, 0.0039,  ..., 0.0014, 0.0012, 0.0011],\n",
       "         ...,\n",
       "         [0.0002, 0.0005, 0.0009,  ..., 0.0008, 0.0008, 0.0008],\n",
       "         [0.0002, 0.0005, 0.0009,  ..., 0.0008, 0.0008, 0.0008],\n",
       "         [0.0002, 0.0005, 0.0009,  ..., 0.0008, 0.0008, 0.0008]]])"
      ]
     },
     "execution_count": 47,
     "metadata": {},
     "output_type": "execute_result"
    }
   ],
   "source": [
    "Ct(dataset[0])[\"x\"]"
   ]
  },
  {
   "cell_type": "code",
   "execution_count": 52,
   "id": "4dabb92f",
   "metadata": {},
   "outputs": [
    {
     "data": {
      "text/plain": [
       "torch.Size([1, 6912000])"
      ]
     },
     "execution_count": 52,
     "metadata": {},
     "output_type": "execute_result"
    }
   ],
   "source": [
    "CEDM.sanity_check(Ct(dataset[0])[\"x\"].unsqueeze(0))"
   ]
  }
 ],
 "metadata": {
  "kernelspec": {
   "display_name": "Python 3",
   "language": "python",
   "name": "python3"
  },
  "language_info": {
   "codemirror_mode": {
    "name": "ipython",
    "version": 3
   },
   "file_extension": ".py",
   "mimetype": "text/x-python",
   "name": "python",
   "nbconvert_exporter": "python",
   "pygments_lexer": "ipython3",
   "version": "3.6.9"
  }
 },
 "nbformat": 4,
 "nbformat_minor": 5
}
