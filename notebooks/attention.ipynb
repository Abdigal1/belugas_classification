{
 "cells": [
  {
   "cell_type": "code",
   "execution_count": 4,
   "id": "af3737d1",
   "metadata": {},
   "outputs": [],
   "source": [
    "import sys\n",
    "import os\n",
    "sys.path.append(\"..\")\n",
    "from utils.train2 import *\n",
    "device = 'cpu'"
   ]
  },
  {
   "cell_type": "code",
   "execution_count": 5,
   "id": "9a91a3ec",
   "metadata": {},
   "outputs": [],
   "source": [
    "a = load_meta(os.path.join(os.pardir, 'metadata1'))"
   ]
  },
  {
   "cell_type": "code",
   "execution_count": 6,
   "id": "c071675e",
   "metadata": {},
   "outputs": [
    {
     "data": {
      "text/plain": [
       "(5902, 68)"
      ]
     },
     "execution_count": 6,
     "metadata": {},
     "output_type": "execute_result"
    }
   ],
   "source": [
    "a.shape"
   ]
  },
  {
   "cell_type": "code",
   "execution_count": 15,
   "id": "0b7548ed",
   "metadata": {},
   "outputs": [],
   "source": [
    "class CustomAtenttion(nn.Module):\n",
    "    def __init__(self, n_features, n_classes, layers_list, activation=nn.ReLU(), dropout_list=None, batch_norm=True):\n",
    "        super(CustomAtenttion, self).__init__()\n",
    "        self.n_features = n_features\n",
    "        self.n_classes = n_classes\n",
    "        self.layers_list = layers_list\n",
    "        self.activation = activation\n",
    "        self.dropout_list = dropout_list\n",
    "        self.batch_norm = batch_norm\n",
    "        self.net = []\n",
    "        self.b_list = []\n",
    "        if self.dropout_list:\n",
    "            self.dropout_list = [nn.Dropout(i) for i in self.dropout_list]\n",
    "        for i in range(len(self.layers_list)):\n",
    "            if self.batch_norm:\n",
    "                self.b_list.append(nn.BatchNorm1d(self.layers_list[i]))\n",
    "            if i==0:\n",
    "                self.net.append(nn.Linear(self.n_features, self.layers_list[i]))\n",
    "            else:\n",
    "                self.net.append(nn.Linear(self.layers_list[i-1]+3, self.layers_list[i]))\n",
    "        self.last_layer = nn.Linear(self.layers_list[-1]+self.n_features-3, self.n_classes)\n",
    "        self.net = nn.ModuleList(self.net)\n",
    "        self.prev_atenttion = nn.Linear(self.n_features-3, 3*(self.n_features-3))\n",
    "        self.atenttion = nn.MultiheadAttention(self.n_features-3, 64, batch_first=True)\n",
    "    \n",
    "    def forward(self, x):\n",
    "        b_size, _ = x.size()\n",
    "        vp = torch.clone(x[:,-3:])\n",
    "        embx = torch.clone(x[:,:-3])\n",
    "        embx = self.prev_atenttion(embx)\n",
    "        qkv = embx.view(b_size, 3, -1)\n",
    "        q, k, v = qkv.chunk(3, dim = 1)\n",
    "        out, _ = self.atenttion(q, k, v)\n",
    "        out = out.squeeze(dim=1)\n",
    "        for i, l in enumerate(self.net):\n",
    "            #print(i)\n",
    "            if i==0:\n",
    "                x = self.activation(l(x))\n",
    "            else:\n",
    "                x = self.activation(l(torch.cat((x, vp), dim=1)))\n",
    "            if self.batch_norm:\n",
    "                x = self.b_list[i](x)\n",
    "            if self.dropout_list:\n",
    "                x = (self.dropout_list[i])(x)\n",
    "            \n",
    "        x = self.last_layer(torch.cat((x, out), dim=1))\n",
    "        if self.n_classes == 1:\n",
    "            x = torch.sigmoid(x)\n",
    "   \n",
    "        return x\n",
    "\n",
    "    def eval(self):\n",
    "        self.train(False)\n",
    "        for i in self.b_list:\n",
    "            i.train(False)\n",
    "    def cust_train(self):\n",
    "        self.train(True)\n",
    "        for i in self.b_list:\n",
    "            i.train(True)"
   ]
  },
  {
   "cell_type": "code",
   "execution_count": 16,
   "id": "e49cbbc0",
   "metadata": {},
   "outputs": [
    {
     "name": "stdout",
     "output_type": "stream",
     "text": [
      "CustomAtenttion(\n",
      "  (activation): GELU()\n",
      "  (last_layer): Linear(in_features=320, out_features=788, bias=True)\n",
      "  (net): ModuleList(\n",
      "    (0): Linear(in_features=67, out_features=128, bias=True)\n",
      "    (1): Linear(in_features=131, out_features=128, bias=True)\n",
      "    (2): Linear(in_features=131, out_features=256, bias=True)\n",
      "    (3): Linear(in_features=259, out_features=256, bias=True)\n",
      "    (4): Linear(in_features=259, out_features=256, bias=True)\n",
      "  )\n",
      "  (prev_atenttion): Linear(in_features=64, out_features=192, bias=True)\n",
      "  (atenttion): MultiheadAttention(\n",
      "    (out_proj): NonDynamicallyQuantizableLinear(in_features=64, out_features=64, bias=True)\n",
      "  )\n",
      ")\n"
     ]
    }
   ],
   "source": [
    "mod = CustomAtenttion(67, 788, [128, 128, 256, 256, 256], nn.GELU(), batch_norm=True)\n",
    "print(mod)"
   ]
  },
  {
   "cell_type": "code",
   "execution_count": 17,
   "id": "f654b3de",
   "metadata": {},
   "outputs": [
    {
     "name": "stderr",
     "output_type": "stream",
     "text": [
      "C:\\Users\\LENOVO\\.conda\\envs\\paltas\\lib\\site-packages\\sklearn\\model_selection\\_split.py:676: UserWarning: The least populated class in y has only 1 members, which is less than n_splits=5.\n",
      "  warnings.warn(\n",
      "E:\\belugas_classification\\notebooks\\..\\utils\\train2.py:138: VisibleDeprecationWarning: Creating an ndarray from ragged nested sequences (which is a list-or-tuple of lists-or-tuples-or ndarrays with different lengths or shapes) is deprecated. If you meant to do this, you must specify 'dtype=object' when creating the ndarray.\n",
      "  vec_train = np.array([train_ids for train_ids,_ in skf.split(data, data.iloc[:,-1])])\n",
      "C:\\Users\\LENOVO\\.conda\\envs\\paltas\\lib\\site-packages\\sklearn\\model_selection\\_split.py:676: UserWarning: The least populated class in y has only 1 members, which is less than n_splits=5.\n",
      "  warnings.warn(\n",
      "E:\\belugas_classification\\notebooks\\..\\utils\\train2.py:139: VisibleDeprecationWarning: Creating an ndarray from ragged nested sequences (which is a list-or-tuple of lists-or-tuples-or ndarrays with different lengths or shapes) is deprecated. If you meant to do this, you must specify 'dtype=object' when creating the ndarray.\n",
      "  vec_test = np.array([test_ids for _,test_ids in skf.split(data, data.iloc[:,-1])])\n",
      "Acc train: 97.42 Acc test: 74.94: 100%|███████████████| 100/100 [05:07<00:00,  3.08s/it, epoch_model=99, best_acc=75.5]\n",
      "Acc train: 97.86 Acc test: 76.38: 100%|███████████████| 100/100 [05:09<00:00,  3.10s/it, epoch_model=99, best_acc=77.2]\n",
      "Acc train: 98.12 Acc test: 76.78: 100%|███████████████| 100/100 [05:17<00:00,  3.17s/it, epoch_model=99, best_acc=77.9]\n",
      "Acc train: 97.09 Acc test: 76.95: 100%|███████████████| 100/100 [05:16<00:00,  3.16s/it, epoch_model=99, best_acc=77.5]\n",
      "Acc train: 97.82 Acc test: 76.19: 100%|███████████████| 100/100 [05:17<00:00,  3.18s/it, epoch_model=99, best_acc=76.9]\n"
     ]
    }
   ],
   "source": [
    "eo = train(a, mod, ep=100, save=True, prefix = \"atenttion\")"
   ]
  },
  {
   "cell_type": "code",
   "execution_count": 18,
   "id": "0f9cbbcb",
   "metadata": {},
   "outputs": [
    {
     "data": {
      "text/plain": [
       "[<matplotlib.lines.Line2D at 0x27900508e20>]"
      ]
     },
     "execution_count": 18,
     "metadata": {},
     "output_type": "execute_result"
    },
    {
     "data": {
      "image/png": "[encoded data removed]",
      "text/plain": [
       "<Figure size 432x288 with 1 Axes>"
      ]
     },
     "metadata": {
      "needs_background": "light"
     },
     "output_type": "display_data"
    }
   ],
   "source": [
    "plt.plot(eo['acc'])\n",
    "plt.plot(eo['train_acc'])"
   ]
  },
  {
   "cell_type": "code",
   "execution_count": 49,
   "id": "ab27a83c",
   "metadata": {},
   "outputs": [],
   "source": [
    "at = nn.MultiheadAttention(12, 4, batch_first=True)"
   ]
  },
  {
   "cell_type": "code",
   "execution_count": 50,
   "id": "83b43e63",
   "metadata": {},
   "outputs": [],
   "source": [
    "m, w = at(torch.randn(1, 1, 12), torch.randn(1, 1, 12), torch.randn(1, 1, 12))"
   ]
  },
  {
   "cell_type": "code",
   "execution_count": 51,
   "id": "830c29c8",
   "metadata": {},
   "outputs": [
    {
     "data": {
      "text/plain": [
       "tensor([[[-0.0836, -0.7130,  0.3655, -0.0394,  0.2155, -0.2543,  0.7236,\n",
       "           0.2701, -0.5202,  0.5084, -0.5707, -0.2636]]],\n",
       "       grad_fn=<TransposeBackward0>)"
      ]
     },
     "execution_count": 51,
     "metadata": {},
     "output_type": "execute_result"
    }
   ],
   "source": [
    "m"
   ]
  },
  {
   "cell_type": "code",
   "execution_count": 66,
   "id": "18411bc4",
   "metadata": {},
   "outputs": [],
   "source": [
    "m = nn.MultiheadAttention(2, 1, batch_first=True)"
   ]
  },
  {
   "cell_type": "code",
   "execution_count": 77,
   "id": "9659af37",
   "metadata": {},
   "outputs": [
    {
     "name": "stdout",
     "output_type": "stream",
     "text": [
      "Initial batch\n",
      "tensor([[ 1.0111, -0.4251, -1.0709, -0.5478,  0.7797,  0.4184],\n",
      "        [-0.4678, -0.7963,  0.8651, -1.5402,  0.0810,  0.5573],\n",
      "        [-1.5549,  0.1946, -0.5968,  1.2888,  0.2883, -0.6147],\n",
      "        [-1.2157,  0.4224,  0.0131, -0.6178,  0.5841,  0.9268]])\n",
      "Separadao por batch\n",
      "tensor([[[ 1.0111, -0.4251],\n",
      "         [-1.0709, -0.5478],\n",
      "         [ 0.7797,  0.4184]],\n",
      "\n",
      "        [[-0.4678, -0.7963],\n",
      "         [ 0.8651, -1.5402],\n",
      "         [ 0.0810,  0.5573]],\n",
      "\n",
      "        [[-1.5549,  0.1946],\n",
      "         [-0.5968,  1.2888],\n",
      "         [ 0.2883, -0.6147]],\n",
      "\n",
      "        [[-1.2157,  0.4224],\n",
      "         [ 0.0131, -0.6178],\n",
      "         [ 0.5841,  0.9268]]])\n",
      "q, k, v\n",
      "tensor([[[ 1.0111, -0.4251]],\n",
      "\n",
      "        [[-0.4678, -0.7963]],\n",
      "\n",
      "        [[-1.5549,  0.1946]],\n",
      "\n",
      "        [[-1.2157,  0.4224]]]) tensor([[[-1.0709, -0.5478]],\n",
      "\n",
      "        [[ 0.8651, -1.5402]],\n",
      "\n",
      "        [[-0.5968,  1.2888]],\n",
      "\n",
      "        [[ 0.0131, -0.6178]]]) tensor([[[ 0.7797,  0.4184]],\n",
      "\n",
      "        [[ 0.0810,  0.5573]],\n",
      "\n",
      "        [[ 0.2883, -0.6147]],\n",
      "\n",
      "        [[ 0.5841,  0.9268]]])\n",
      "salida\n",
      "tensor([[[ 0.0547, -0.1492]],\n",
      "\n",
      "        [[-0.1070, -0.1467]],\n",
      "\n",
      "        [[ 0.1890,  0.1412]],\n",
      "\n",
      "        [[-0.0936, -0.2684]]], grad_fn=<TransposeBackward0>)\n",
      "tensor([[ 0.0547, -0.1492],\n",
      "        [-0.1070, -0.1467],\n",
      "        [ 0.1890,  0.1412],\n",
      "        [-0.0936, -0.2684]], grad_fn=<SqueezeBackward1>)\n"
     ]
    }
   ],
   "source": [
    "a = torch.randn(4, 2*3)\n",
    "print(\"Initial batch\")\n",
    "print(a)\n",
    "b_size, _ = a.size()\n",
    "e = a.view(b_size, 3, -1)\n",
    "print(\"Separadao por batch\")\n",
    "print(e)\n",
    "q, k, v = e.chunk(3, dim = 1)\n",
    "print(\"q, k, v\")\n",
    "print(q, k, v)\n",
    "print(\"salida\")\n",
    "out, _ = m(q, k, v)\n",
    "print(out)\n",
    "print(out.squeeze(dim=1))"
   ]
  },
  {
   "cell_type": "code",
   "execution_count": 68,
   "id": "d35b3948",
   "metadata": {},
   "outputs": [],
   "source": []
  }
 ],
 "metadata": {
  "kernelspec": {
   "display_name": "Python 3",
   "language": "python",
   "name": "python3"
  },
  "language_info": {
   "codemirror_mode": {
    "name": "ipython",
    "version": 3
   },
   "file_extension": ".py",
   "mimetype": "text/x-python",
   "name": "python",
   "nbconvert_exporter": "python",
   "pygments_lexer": "ipython3",
   "version": "3.7.10"
  }
 },
 "nbformat": 4,
 "nbformat_minor": 5
}
