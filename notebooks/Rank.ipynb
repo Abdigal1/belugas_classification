{
 "cells": [
  {
   "cell_type": "code",
   "execution_count": 27,
   "id": "16fe7e5b",
   "metadata": {},
   "outputs": [],
   "source": [
    "import sys\n",
    "import os\n",
    "import matplotlib.pyplot as plt\n",
    "sys.path.append(\"..\")\n",
    "from utils.train2 import *\n",
    "device = 'cpu'"
   ]
  },
  {
   "cell_type": "code",
   "execution_count": 2,
   "id": "1cdb0534",
   "metadata": {},
   "outputs": [],
   "source": [
    "class CustomAtenttionRank(nn.Module):\n",
    "    def __init__(self, n_features, n_classes, layers_list, activation=nn.ReLU(), dropout_list=None, batch_norm=True):\n",
    "        super(CustomAtenttionRank, self).__init__()\n",
    "        self.n_features = n_features\n",
    "        self.n_classes = n_classes\n",
    "        self.layers_list = layers_list\n",
    "        self.activation = activation\n",
    "        self.dropout_list = dropout_list\n",
    "        self.batch_norm = batch_norm\n",
    "        self.net = []\n",
    "        self.b_list = []\n",
    "        if self.dropout_list:\n",
    "            self.dropout_list = [nn.Dropout(i) for i in self.dropout_list]\n",
    "        for i in range(len(self.layers_list)):\n",
    "            if self.batch_norm:\n",
    "                self.b_list.append(nn.BatchNorm1d(self.layers_list[i]))\n",
    "            if i==0:\n",
    "                self.net.append(nn.Linear(self.n_features, self.layers_list[i]))\n",
    "            else:\n",
    "                self.net.append(nn.Linear(self.layers_list[i-1]+3, self.layers_list[i]))\n",
    "        self.last_layer = nn.Linear(self.layers_list[-1]+self.n_features-3, self.n_classes)\n",
    "        self.net = nn.ModuleList(self.net)\n",
    "        self.prev_atenttion = nn.Linear(self.n_features-3, 3*(self.n_features-3))\n",
    "        self.atenttion = nn.MultiheadAttention(self.n_features-3, 64, batch_first=True)\n",
    "    \n",
    "    def forward(self, x):\n",
    "        b_size, _ = x.size()\n",
    "        vp = torch.clone(x[:,-3:])\n",
    "        embx = torch.clone(x[:,:-3])\n",
    "        embx = self.prev_atenttion(embx)\n",
    "        qkv = embx.view(b_size, 3, -1)\n",
    "        q, k, v = qkv.chunk(3, dim = 1)\n",
    "        out, _ = self.atenttion(q, k, v)\n",
    "        out = out.squeeze(dim=1)\n",
    "        for i, l in enumerate(self.net):\n",
    "            #print(i)\n",
    "            if i==0:\n",
    "                x = self.activation(l(x))\n",
    "            else:\n",
    "                x = self.activation(l(torch.cat((x, vp), dim=1)))\n",
    "            if self.batch_norm:\n",
    "                x = self.b_list[i](x)\n",
    "            if self.dropout_list:\n",
    "                x = (self.dropout_list[i])(x)\n",
    "            \n",
    "        x = self.last_layer(torch.cat((x, out), dim=1))\n",
    "        if self.n_classes == 1:\n",
    "            x = torch.sigmoid(x)\n",
    "   \n",
    "        return nn.functional.softmax(x, dim = 0)\n",
    "\n",
    "    def eval(self):\n",
    "        self.train(False)\n",
    "        for i in self.b_list:\n",
    "            i.train(False)\n",
    "    def cust_train(self):\n",
    "        self.train(True)\n",
    "        for i in self.b_list:\n",
    "            i.train(True)"
   ]
  },
  {
   "cell_type": "code",
   "execution_count": 34,
   "id": "6a086f21",
   "metadata": {},
   "outputs": [],
   "source": [
    "a = load_meta(os.path.join(os.pardir, 'metadata1'))"
   ]
  },
  {
   "cell_type": "code",
   "execution_count": 35,
   "id": "10e9889c",
   "metadata": {},
   "outputs": [
    {
     "name": "stdout",
     "output_type": "stream",
     "text": [
      "CustomAtenttionRank(\n",
      "  (activation): GELU()\n",
      "  (last_layer): Linear(in_features=320, out_features=512, bias=True)\n",
      "  (net): ModuleList(\n",
      "    (0): Linear(in_features=67, out_features=128, bias=True)\n",
      "    (1): Linear(in_features=131, out_features=128, bias=True)\n",
      "    (2): Linear(in_features=131, out_features=256, bias=True)\n",
      "    (3): Linear(in_features=259, out_features=256, bias=True)\n",
      "    (4): Linear(in_features=259, out_features=256, bias=True)\n",
      "  )\n",
      "  (prev_atenttion): Linear(in_features=64, out_features=192, bias=True)\n",
      "  (atenttion): MultiheadAttention(\n",
      "    (out_proj): NonDynamicallyQuantizableLinear(in_features=64, out_features=64, bias=True)\n",
      "  )\n",
      ")\n"
     ]
    }
   ],
   "source": [
    "mod = CustomAtenttionRank(67, 512, [128, 128, 256, 256, 256], nn.GELU(), batch_norm=True)\n",
    "print(mod)"
   ]
  },
  {
   "cell_type": "code",
   "execution_count": 36,
   "id": "13f392db-d899-4d72-8fb5-171e3943f9ed",
   "metadata": {},
   "outputs": [],
   "source": [
    "optimizer = optim.SGD(mod.parameters(), lr = 0.1, momentum=0.9, weight_decay=1e-8, nesterov=True)"
   ]
  },
  {
   "cell_type": "code",
   "execution_count": 37,
   "id": "3fead8d3",
   "metadata": {},
   "outputs": [
    {
     "name": "stderr",
     "output_type": "stream",
     "text": [
      "E:\\belugas_classification\\notebooks\\..\\utils\\train2.py:252: VisibleDeprecationWarning: Creating an ndarray from ragged nested sequences (which is a list-or-tuple of lists-or-tuples-or ndarrays with different lengths or shapes) is deprecated. If you meant to do this, you must specify 'dtype=object' when creating the ndarray.\n",
      "  vec_train = np.array([train_ids for train_ids,_ in skf.split(list(range(len(a.array))))])\n",
      "E:\\belugas_classification\\notebooks\\..\\utils\\train2.py:253: VisibleDeprecationWarning: Creating an ndarray from ragged nested sequences (which is a list-or-tuple of lists-or-tuples-or ndarrays with different lengths or shapes) is deprecated. If you meant to do this, you must specify 'dtype=object' when creating the ndarray.\n",
      "  vec_test = np.array([test_ids for _,test_ids in skf.split(list(range(len(a.array))))])\n",
      "Loss: 0.251427610: 100%|████████████████████████████████| 500/500 [21:10<00:00,  2.54s/it, epoch_model=500, loss=0.251]\n"
     ]
    }
   ],
   "source": [
    "eo = trainRank(a, mod, optimizer, ep=500, save=True, prefix='marg')"
   ]
  },
  {
   "cell_type": "code",
   "execution_count": 38,
   "id": "98ba5797",
   "metadata": {},
   "outputs": [
    {
     "data": {
      "text/plain": [
       "[<matplotlib.lines.Line2D at 0x21d21e5bd00>]"
      ]
     },
     "execution_count": 38,
     "metadata": {},
     "output_type": "execute_result"
    },
    {
     "data": {
      "image/png": "[encoded data removed]",
      "text/plain": [
       "<Figure size 432x288 with 1 Axes>"
      ]
     },
     "metadata": {
      "needs_background": "light"
     },
     "output_type": "display_data"
    }
   ],
   "source": [
    "plt.plot(np.array(eo['loss']).reshape(-1, 1))"
   ]
  },
  {
   "cell_type": "code",
   "execution_count": null,
   "id": "7a50b470-21d7-4f5f-b21b-942e5203ae71",
   "metadata": {},
   "outputs": [],
   "source": []
  }
 ],
 "metadata": {
  "kernelspec": {
   "display_name": "paltas",
   "language": "python",
   "name": "paltas"
  },
  "language_info": {
   "codemirror_mode": {
    "name": "ipython",
    "version": 3
   },
   "file_extension": ".py",
   "mimetype": "text/x-python",
   "name": "python",
   "nbconvert_exporter": "python",
   "pygments_lexer": "ipython3",
   "version": "3.9.7"
  }
 },
 "nbformat": 4,
 "nbformat_minor": 5
}
